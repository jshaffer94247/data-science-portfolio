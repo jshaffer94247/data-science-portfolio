{
 "cells": [
  {
   "cell_type": "markdown",
   "metadata": {},
   "source": [
    "# Manning Publications: Data Science Bookcamp\n",
    "## Case Study 3: Tracking Disease Outbreaks Using News Headlines¶\n",
    "### Part 2: Adding latitude and longitude to identified locations\n",
    "                                                2020 Jamie Shaffer"
   ]
  },
  {
   "cell_type": "code",
   "execution_count": 1,
   "metadata": {},
   "outputs": [
    {
     "name": "stdout",
     "output_type": "stream",
     "text": [
      "'re'  version is  2.2.1\n",
      "'pandas'  version is  0.25.0\n",
      "'geonamescache'  version is  1.1.0\n"
     ]
    }
   ],
   "source": [
    "import re                         # 2.2.1\n",
    "import numpy as np\n",
    "import pandas as pd               # 0.25.0\n",
    "import geonamescache              # 1.1.0\n",
    "#import unidecode                  # has no __version__\n",
    "from unidecode import unidecode\n",
    "\n",
    "from mpl_toolkits.basemap import Basemap\n",
    "\n",
    "# PEP 484 type hints are easier with this\n",
    "from typing import Tuple\n",
    "\n",
    "import matplotlib.pyplot as plt\n",
    "%matplotlib inline\n",
    "\n",
    "for library in [re,pd,geonamescache]:\n",
    "    libname = (str(library)).split()[1]\n",
    "    print(libname,\" version is \",library.__version__)"
   ]
  },
  {
   "cell_type": "markdown",
   "metadata": {},
   "source": [
    "## GLOBALS"
   ]
  },
  {
   "cell_type": "code",
   "execution_count": 2,
   "metadata": {},
   "outputs": [],
   "source": [
    "## GLOBALS\n",
    "\n",
    "GLOBAL_FILL_STRING = 'not_specified'\n",
    "\n",
    "# For debugging, set this to 1\n",
    "debug = 0\n",
    "\n",
    "# Headlines with cities are in this file:\n",
    "fname1= r\"C:\\Users\\jshaf\\GitHub\\data-science-portfolio\\coursework\"\n",
    "fname2 = r\"\\manning-data-science-bookcamp\\jupyter_notebooks\\parsed_headlines.csv\"\n",
    "fname = fname1 + fname2\n",
    "\n",
    "# First step when using geonamescache\n",
    "gc = geonamescache.GeonamesCache()  \n",
    "\n",
    "# Note that the primary dataframe, df, will be used as a global, too"
   ]
  },
  {
   "cell_type": "markdown",
   "metadata": {},
   "source": [
    "## FUNCTIONS"
   ]
  },
  {
   "cell_type": "code",
   "execution_count": 3,
   "metadata": {},
   "outputs": [],
   "source": [
    "def get_list_of_repeated_headlines(df_in:pd.DataFrame)->list:\n",
    "    '''Takes in a dataframe and returns of list of strings of the headlines with more than one entry'''\n",
    "    val2 = df_in['headline'].value_counts() > 1\n",
    "    print(\"{} headlines are repeated and may have more than one city or country identified\".format(val2.sum()))\n",
    "    \n",
    "    # In order to work only with the multi-identity lines, need to isolate the headlines with multiple entries\n",
    "    # TODO: refactor this and simplify\n",
    "    val2\n",
    "    df_dups = pd.DataFrame(val2)\n",
    "    df_dups = df_dups.reset_index()\n",
    "    df_dups.rename(columns = {'headline':'has2geo'}, inplace = True)\n",
    "    df_dups.rename(columns = {'index':'headline'}, inplace = True)\n",
    "    df_dups = df_dups[df_dups['has2geo']==True]\n",
    "    hl2geo = list(df_dups['headline'])\n",
    "    hl2geo   \n",
    "    \n",
    "    return hl2geo"
   ]
  },
  {
   "cell_type": "code",
   "execution_count": 4,
   "metadata": {},
   "outputs": [],
   "source": [
    "def combine_multiple_headlines(dlist:list,debug=False):\n",
    "    '''Some of the headlines ended up in the final dataframe more than once, probably because of 2 locations.\n",
    "       For now, a simple algorithm is used:\n",
    "           keep the first line\n",
    "           if later lines add either city or country, add it to the first line, and then drop the later line\n",
    "    '''\n",
    "\n",
    "    drop_list = []\n",
    "\n",
    "    for h in dlist:\n",
    "        d2 = df[df['headline'] == h].copy()\n",
    "        d2.fillna(GLOBAL_FILL_STRING,inplace=True)\n",
    "        if (debug):\n",
    "            print(\"\\n{} has length {} and entries {}\".format(h,len(d2),d2))\n",
    "\n",
    "        first_index = -99\n",
    "        for r in d2.iterrows():\n",
    "            rindex = r[0]\n",
    "\n",
    "            if (first_index == -99):\n",
    "                first_index = rindex\n",
    "                if (debug):\n",
    "                    print(\"First line has index {}\".format(rindex))\n",
    "            else:\n",
    "                if (debug):\n",
    "                    print(\"Next line has index {}\".format(rindex))\n",
    "                    \n",
    "                    print(\"ready to compare \\t{}\\n\\t{}\".format(df.loc[first_index],df.loc[rindex]))\n",
    "\n",
    "                    print(\"compare cities: {}\".format(d2.loc[first_index,'city']))\n",
    "                    print(\"compare cities: {}\".format(d2.loc[rindex,'city']))    \n",
    "                \n",
    "                # For now, just copy over either the city or country if it has it, and then drop this entry\n",
    "                if ((d2.loc[first_index,'city'] == GLOBAL_FILL_STRING) & \\\n",
    "                    (d2.loc[rindex,'city'] != GLOBAL_FILL_STRING)):\n",
    "                    \n",
    "                    df.loc[first_index,'city'] = d2.loc[rindex,'city']\n",
    "                    \n",
    "                if (debug):\n",
    "                    print(\"compare countries: {}\".format(d2.loc[first_index,'country']))\n",
    "                    print(\"compare countries: {}\".format(d2.loc[rindex,'country']))\n",
    "\n",
    "                if ((d2.loc[first_index,'country'] == GLOBAL_FILL_STRING) & \\\n",
    "                    (d2.loc[rindex,'country'] != GLOBAL_FILL_STRING)):\n",
    "                    if (debug):\n",
    "                        print('adding country')\n",
    "                    df.loc[first_index,'country'] = d2.loc[rindex,'country']\n",
    "                    if (debug):\n",
    "                        print(\"After adding country: {}\".format(df.loc[first_index]))\n",
    "\n",
    "        drop_list.append(rindex)\n",
    "                \n",
    "    print(\"Drop list is: {}\".format(drop_list))\n",
    "    \n",
    "    df.drop(list(drop_list), axis=0, inplace=True)\n",
    "    df.reindex "
   ]
  },
  {
   "cell_type": "code",
   "execution_count": 5,
   "metadata": {},
   "outputs": [],
   "source": [
    "def get_lat_long(r_city: str, r_country: str, debug=False)->tuple([float, float, int, str]):\n",
    "    '''Given city and/or country, return:\n",
    "        OUTPUTS: latitude, longitude, number of same-named cities, countrycode        \n",
    "        Number of same-named cities may be a clue that some data is plotted incorrectly.\n",
    "        \n",
    "        TODO: Add a check that the selected city is in the correct country\n",
    "        '''\n",
    "    \n",
    "    d2 = df_cities[df_cities['simple_name'] == r_city]\n",
    "    \n",
    "    num_cities = len(d2)\n",
    "    if (debug):\n",
    "        print('get_lat_long {}, {} returns {} cities'.format(r_city,r_country, len(d2)))\n",
    "    \n",
    "    max_population = 0\n",
    "    for r in d2.iterrows():\n",
    "        rindex = r[0]\n",
    "            \n",
    "        if (d2.loc[rindex,'population'] > max_population):\n",
    "            max_population = d2.loc[rindex,'population']\n",
    "            lat = d2.loc[rindex,'latitude']\n",
    "            long = d2.loc[rindex,'longitude']\n",
    "            countrycode = d2.loc[rindex,'countrycode'] \n",
    "        else:\n",
    "            pass\n",
    "    \n",
    "    \n",
    "    return lat, long, num_cities, countrycode\n"
   ]
  },
  {
   "cell_type": "markdown",
   "metadata": {},
   "source": [
    "## MAIN"
   ]
  },
  {
   "cell_type": "markdown",
   "metadata": {},
   "source": [
    "### Challenges to solve in matching latitude and longitude (lat, long) to city or country names\n",
    "1. **More than one city, or both city and country in headline**<br>\n",
    "    Options:\n",
    "        1. Drop the headline\n",
    "        1. If both city and country, use the city. In an improved version, confirm that the city is in the country, \n",
    "        and if it's not, use the largest city in the country.\n",
    "        1. Use the first city found in the headline\n",
    "**Decision: Use the first city found in the headline.\n",
    "    <br><br>\n",
    "    \n",
    "1. **City or country names missing in the geonamescache database**<br>\n",
    "    Options:\n",
    "     1. Drop the headline\n",
    "     1. Improve the city name database\n",
    "    <br> \n",
    "**Decision: Drop headlines with missing city or country information.** <br> Headlines with missing city names have already been dropped; this resulted in a loss of ~ . Until the impact of dropping is known,\n",
    "        the value in improving the database is unclear. This decision can be revisited.\n",
    "<br> <br> \n",
    "\n",
    "1. **Duplicate city names**<br>\n",
    "    Options:\n",
    "     1. One option is to use the most populous city as it is the most likely\n",
    "     1. Another option is to flag this city as needing disambiguation, and then running different scenarios, e.g.\n",
    "        try clustering with differeint locations to see the impact\n",
    "    <br> \n",
    "**Decision : Use the most populous city.** <br> The option to run different scenarios (2) will take significanly more effort; start with the simple solution (1)\n",
    "        and get a first\n",
    "        pass completed. Once the basic process is ironed out, if this seems like it would improve the results, \n",
    "        revisit and try the 2nd option.\n",
    "<br> <br> \n",
    " \n",
    "1. **Countries without city names** <br>\n",
    "    Options:\n",
    "    1. Use the common centroid of the city names that are in that country\n",
    "    1. Use the location of the capital of the country\n",
    "    1. Determine a symbolic location for that country (a.k.a. add to the database)\n",
    "    1. Determine if the headline also included the country\n",
    "    <br> \n",
    "**Decision : Check to see if the country was included; if not, use the location of the capital.** <br> Because all city names are not in the database, \n",
    "        it's unclear how the use of the common centroid will work out. "
   ]
  },
  {
   "cell_type": "code",
   "execution_count": 6,
   "metadata": {},
   "outputs": [],
   "source": [
    "df = pd.read_csv(fname)  # read the headlines with city/country information"
   ]
  },
  {
   "cell_type": "code",
   "execution_count": 7,
   "metadata": {},
   "outputs": [
    {
     "data": {
      "text/html": [
       "<div>\n",
       "<style scoped>\n",
       "    .dataframe tbody tr th:only-of-type {\n",
       "        vertical-align: middle;\n",
       "    }\n",
       "\n",
       "    .dataframe tbody tr th {\n",
       "        vertical-align: top;\n",
       "    }\n",
       "\n",
       "    .dataframe thead th {\n",
       "        text-align: right;\n",
       "    }\n",
       "</style>\n",
       "<table border=\"1\" class=\"dataframe\">\n",
       "  <thead>\n",
       "    <tr style=\"text-align: right;\">\n",
       "      <th></th>\n",
       "      <th>headline</th>\n",
       "      <th>city</th>\n",
       "      <th>country</th>\n",
       "    </tr>\n",
       "  </thead>\n",
       "  <tbody>\n",
       "    <tr>\n",
       "      <th>0</th>\n",
       "      <td>Pedro Juan Caballero Encounters Severe Symptom...</td>\n",
       "      <td>Pedro Juan Caballero</td>\n",
       "      <td>NaN</td>\n",
       "    </tr>\n",
       "    <tr>\n",
       "      <th>1</th>\n",
       "      <td>Rumors about Hepatitis D Spreading in San Juan...</td>\n",
       "      <td>San Juan Capistrano</td>\n",
       "      <td>NaN</td>\n",
       "    </tr>\n",
       "    <tr>\n",
       "      <th>2</th>\n",
       "      <td>Zika Spreads to Palm Beach Gardens</td>\n",
       "      <td>Palm Beach Gardens</td>\n",
       "      <td>NaN</td>\n",
       "    </tr>\n",
       "    <tr>\n",
       "      <th>3</th>\n",
       "      <td>Zika Reported in North Miami Beach</td>\n",
       "      <td>North Miami Beach</td>\n",
       "      <td>NaN</td>\n",
       "    </tr>\n",
       "    <tr>\n",
       "      <th>4</th>\n",
       "      <td>Zika cases in Vietnam's Ho Chi Minh City surge</td>\n",
       "      <td>Ho Chi Minh City</td>\n",
       "      <td>NaN</td>\n",
       "    </tr>\n",
       "  </tbody>\n",
       "</table>\n",
       "</div>"
      ],
      "text/plain": [
       "                                            headline                  city  \\\n",
       "0  Pedro Juan Caballero Encounters Severe Symptom...  Pedro Juan Caballero   \n",
       "1  Rumors about Hepatitis D Spreading in San Juan...   San Juan Capistrano   \n",
       "2                 Zika Spreads to Palm Beach Gardens    Palm Beach Gardens   \n",
       "3                 Zika Reported in North Miami Beach     North Miami Beach   \n",
       "4     Zika cases in Vietnam's Ho Chi Minh City surge      Ho Chi Minh City   \n",
       "\n",
       "  country  \n",
       "0     NaN  \n",
       "1     NaN  \n",
       "2     NaN  \n",
       "3     NaN  \n",
       "4     NaN  "
      ]
     },
     "execution_count": 7,
     "metadata": {},
     "output_type": "execute_result"
    }
   ],
   "source": [
    "df.head()"
   ]
  },
  {
   "cell_type": "markdown",
   "metadata": {},
   "source": [
    "### Step 1: clean up duplicates and missing cities"
   ]
  },
  {
   "cell_type": "code",
   "execution_count": 8,
   "metadata": {},
   "outputs": [],
   "source": [
    "# Any duplicates?\n",
    "df['hasDup'] = df.duplicated(subset=['headline','city'])"
   ]
  },
  {
   "cell_type": "code",
   "execution_count": 9,
   "metadata": {},
   "outputs": [
    {
     "data": {
      "text/html": [
       "<div>\n",
       "<style scoped>\n",
       "    .dataframe tbody tr th:only-of-type {\n",
       "        vertical-align: middle;\n",
       "    }\n",
       "\n",
       "    .dataframe tbody tr th {\n",
       "        vertical-align: top;\n",
       "    }\n",
       "\n",
       "    .dataframe thead th {\n",
       "        text-align: right;\n",
       "    }\n",
       "</style>\n",
       "<table border=\"1\" class=\"dataframe\">\n",
       "  <thead>\n",
       "    <tr style=\"text-align: right;\">\n",
       "      <th></th>\n",
       "      <th>headline</th>\n",
       "      <th>city</th>\n",
       "      <th>country</th>\n",
       "      <th>hasDup</th>\n",
       "    </tr>\n",
       "  </thead>\n",
       "  <tbody>\n",
       "    <tr>\n",
       "      <th>522</th>\n",
       "      <td>Spanish Flu Outbreak in Lisbon</td>\n",
       "      <td>Lisbon</td>\n",
       "      <td>NaN</td>\n",
       "      <td>True</td>\n",
       "    </tr>\n",
       "    <tr>\n",
       "      <th>526</th>\n",
       "      <td>Spanish Flu Spreading through Madrid</td>\n",
       "      <td>Madrid</td>\n",
       "      <td>NaN</td>\n",
       "      <td>True</td>\n",
       "    </tr>\n",
       "  </tbody>\n",
       "</table>\n",
       "</div>"
      ],
      "text/plain": [
       "                                 headline    city country  hasDup\n",
       "522        Spanish Flu Outbreak in Lisbon  Lisbon     NaN    True\n",
       "526  Spanish Flu Spreading through Madrid  Madrid     NaN    True"
      ]
     },
     "execution_count": 9,
     "metadata": {},
     "output_type": "execute_result"
    }
   ],
   "source": [
    "df[df['hasDup']==True] # TODO This is very strange...figure it out later. For now, this isn't helpful."
   ]
  },
  {
   "cell_type": "code",
   "execution_count": 10,
   "metadata": {},
   "outputs": [
    {
     "name": "stdout",
     "output_type": "stream",
     "text": [
      "11 headlines are repeated and may have more than one city or country identified\n"
     ]
    },
    {
     "data": {
      "text/plain": [
       "['Zika reaches Johor Bahru, Malaysia',\n",
       " 'Mystery Virus Spreads in Recife, Brazil',\n",
       " 'Zika outbreak in Piracicaba, Brazil',\n",
       " 'Zika surfaces in Klang, Malaysia',\n",
       " 'Student sick in Campinas, Brazil',\n",
       " 'New Zika Case in Kota Kinabalu, Malaysia',\n",
       " 'Zika Patient in Seminole, Florida',\n",
       " 'Spanish Flu Spreading through Madrid',\n",
       " 'Spanish Flu Outbreak in Lisbon',\n",
       " 'Thailand-Zika Virus in Bangkok',\n",
       " \"Zika cases in Vietnam's Ho Chi Minh City surge\"]"
      ]
     },
     "execution_count": 10,
     "metadata": {},
     "output_type": "execute_result"
    }
   ],
   "source": [
    "dlist1 = get_list_of_repeated_headlines(df)\n",
    "dlist1"
   ]
  },
  {
   "cell_type": "code",
   "execution_count": 11,
   "metadata": {},
   "outputs": [
    {
     "name": "stdout",
     "output_type": "stream",
     "text": [
      "Drop list is: [614, 617, 618, 612, 619, 613, 350, 526, 522, 615, 616]\n"
     ]
    }
   ],
   "source": [
    "combine_multiple_headlines(dlist1)"
   ]
  },
  {
   "cell_type": "code",
   "execution_count": null,
   "metadata": {},
   "outputs": [],
   "source": []
  },
  {
   "cell_type": "code",
   "execution_count": 12,
   "metadata": {},
   "outputs": [
    {
     "name": "stdout",
     "output_type": "stream",
     "text": [
      "0 headlines are repeated and may have more than one city or country identified\n"
     ]
    },
    {
     "data": {
      "text/plain": [
       "[]"
      ]
     },
     "execution_count": 12,
     "metadata": {},
     "output_type": "execute_result"
    }
   ],
   "source": [
    "# See how many we still have\n",
    "dlist2 = get_list_of_repeated_headlines(df)\n",
    "dlist2"
   ]
  },
  {
   "cell_type": "code",
   "execution_count": 13,
   "metadata": {},
   "outputs": [
    {
     "data": {
      "text/html": [
       "<div>\n",
       "<style scoped>\n",
       "    .dataframe tbody tr th:only-of-type {\n",
       "        vertical-align: middle;\n",
       "    }\n",
       "\n",
       "    .dataframe tbody tr th {\n",
       "        vertical-align: top;\n",
       "    }\n",
       "\n",
       "    .dataframe thead th {\n",
       "        text-align: right;\n",
       "    }\n",
       "</style>\n",
       "<table border=\"1\" class=\"dataframe\">\n",
       "  <thead>\n",
       "    <tr style=\"text-align: right;\">\n",
       "      <th></th>\n",
       "      <th>headline</th>\n",
       "      <th>city</th>\n",
       "      <th>country</th>\n",
       "      <th>hasDup</th>\n",
       "    </tr>\n",
       "  </thead>\n",
       "  <tbody>\n",
       "    <tr>\n",
       "      <th>0</th>\n",
       "      <td>Pedro Juan Caballero Encounters Severe Symptom...</td>\n",
       "      <td>Pedro Juan Caballero</td>\n",
       "      <td>NaN</td>\n",
       "      <td>False</td>\n",
       "    </tr>\n",
       "    <tr>\n",
       "      <th>1</th>\n",
       "      <td>Rumors about Hepatitis D Spreading in San Juan...</td>\n",
       "      <td>San Juan Capistrano</td>\n",
       "      <td>NaN</td>\n",
       "      <td>False</td>\n",
       "    </tr>\n",
       "    <tr>\n",
       "      <th>2</th>\n",
       "      <td>Zika Spreads to Palm Beach Gardens</td>\n",
       "      <td>Palm Beach Gardens</td>\n",
       "      <td>NaN</td>\n",
       "      <td>False</td>\n",
       "    </tr>\n",
       "    <tr>\n",
       "      <th>3</th>\n",
       "      <td>Zika Reported in North Miami Beach</td>\n",
       "      <td>North Miami Beach</td>\n",
       "      <td>NaN</td>\n",
       "      <td>False</td>\n",
       "    </tr>\n",
       "    <tr>\n",
       "      <th>4</th>\n",
       "      <td>Zika cases in Vietnam's Ho Chi Minh City surge</td>\n",
       "      <td>Ho Chi Minh City</td>\n",
       "      <td>Vietnam</td>\n",
       "      <td>False</td>\n",
       "    </tr>\n",
       "  </tbody>\n",
       "</table>\n",
       "</div>"
      ],
      "text/plain": [
       "                                            headline                  city  \\\n",
       "0  Pedro Juan Caballero Encounters Severe Symptom...  Pedro Juan Caballero   \n",
       "1  Rumors about Hepatitis D Spreading in San Juan...   San Juan Capistrano   \n",
       "2                 Zika Spreads to Palm Beach Gardens    Palm Beach Gardens   \n",
       "3                 Zika Reported in North Miami Beach     North Miami Beach   \n",
       "4     Zika cases in Vietnam's Ho Chi Minh City surge      Ho Chi Minh City   \n",
       "\n",
       "   country  hasDup  \n",
       "0      NaN   False  \n",
       "1      NaN   False  \n",
       "2      NaN   False  \n",
       "3      NaN   False  \n",
       "4  Vietnam   False  "
      ]
     },
     "execution_count": 13,
     "metadata": {},
     "output_type": "execute_result"
    }
   ],
   "source": [
    "df.head()"
   ]
  },
  {
   "cell_type": "code",
   "execution_count": 14,
   "metadata": {},
   "outputs": [],
   "source": [
    "# no longer needed\n",
    "df.drop('hasDup',inplace=True, axis=1)"
   ]
  },
  {
   "cell_type": "code",
   "execution_count": 15,
   "metadata": {},
   "outputs": [
    {
     "data": {
      "text/html": [
       "<div>\n",
       "<style scoped>\n",
       "    .dataframe tbody tr th:only-of-type {\n",
       "        vertical-align: middle;\n",
       "    }\n",
       "\n",
       "    .dataframe tbody tr th {\n",
       "        vertical-align: top;\n",
       "    }\n",
       "\n",
       "    .dataframe thead th {\n",
       "        text-align: right;\n",
       "    }\n",
       "</style>\n",
       "<table border=\"1\" class=\"dataframe\">\n",
       "  <thead>\n",
       "    <tr style=\"text-align: right;\">\n",
       "      <th></th>\n",
       "      <th>headline</th>\n",
       "      <th>city</th>\n",
       "      <th>country</th>\n",
       "    </tr>\n",
       "  </thead>\n",
       "  <tbody>\n",
       "    <tr>\n",
       "      <th>4</th>\n",
       "      <td>Zika cases in Vietnam's Ho Chi Minh City surge</td>\n",
       "      <td>Ho Chi Minh City</td>\n",
       "      <td>Vietnam</td>\n",
       "    </tr>\n",
       "    <tr>\n",
       "      <th>34</th>\n",
       "      <td>New Zika Case in Kota Kinabalu, Malaysia</td>\n",
       "      <td>Kota Kinabalu</td>\n",
       "      <td>Malaysia</td>\n",
       "    </tr>\n",
       "    <tr>\n",
       "      <th>76</th>\n",
       "      <td>Zika reaches Johor Bahru, Malaysia</td>\n",
       "      <td>Johor Bahru</td>\n",
       "      <td>Malaysia</td>\n",
       "    </tr>\n",
       "    <tr>\n",
       "      <th>178</th>\n",
       "      <td>Zika outbreak in Piracicaba, Brazil</td>\n",
       "      <td>Piracicaba</td>\n",
       "      <td>Brazil</td>\n",
       "    </tr>\n",
       "    <tr>\n",
       "      <th>279</th>\n",
       "      <td>Student sick in Campinas, Brazil</td>\n",
       "      <td>Campinas</td>\n",
       "      <td>Brazil</td>\n",
       "    </tr>\n",
       "    <tr>\n",
       "      <th>348</th>\n",
       "      <td>Thailand-Zika Virus in Bangkok</td>\n",
       "      <td>Bangkok</td>\n",
       "      <td>Thailand</td>\n",
       "    </tr>\n",
       "    <tr>\n",
       "      <th>478</th>\n",
       "      <td>Mystery Virus Spreads in Recife, Brazil</td>\n",
       "      <td>Recife</td>\n",
       "      <td>Brazil</td>\n",
       "    </tr>\n",
       "    <tr>\n",
       "      <th>575</th>\n",
       "      <td>Zika surfaces in Klang, Malaysia</td>\n",
       "      <td>Klang</td>\n",
       "      <td>Malaysia</td>\n",
       "    </tr>\n",
       "  </tbody>\n",
       "</table>\n",
       "</div>"
      ],
      "text/plain": [
       "                                           headline              city  \\\n",
       "4    Zika cases in Vietnam's Ho Chi Minh City surge  Ho Chi Minh City   \n",
       "34         New Zika Case in Kota Kinabalu, Malaysia     Kota Kinabalu   \n",
       "76               Zika reaches Johor Bahru, Malaysia       Johor Bahru   \n",
       "178             Zika outbreak in Piracicaba, Brazil        Piracicaba   \n",
       "279                Student sick in Campinas, Brazil          Campinas   \n",
       "348                  Thailand-Zika Virus in Bangkok           Bangkok   \n",
       "478         Mystery Virus Spreads in Recife, Brazil            Recife   \n",
       "575                Zika surfaces in Klang, Malaysia             Klang   \n",
       "\n",
       "      country  \n",
       "4     Vietnam  \n",
       "34   Malaysia  \n",
       "76   Malaysia  \n",
       "178    Brazil  \n",
       "279    Brazil  \n",
       "348  Thailand  \n",
       "478    Brazil  \n",
       "575  Malaysia  "
      ]
     },
     "execution_count": 15,
     "metadata": {},
     "output_type": "execute_result"
    }
   ],
   "source": [
    "# are there any countries without city names?\n",
    "df[df['country'].notna()]\n",
    "# by inspection we don't have that problem, so for now we won't solve this for the general case"
   ]
  },
  {
   "cell_type": "markdown",
   "metadata": {},
   "source": [
    "### Step 2: Add latitude and longitude"
   ]
  },
  {
   "cell_type": "code",
   "execution_count": 16,
   "metadata": {},
   "outputs": [],
   "source": [
    "# Create global df_cities with all city data PLUS simplified (unidecoded) names for easier lookup\n",
    "cities = gc.get_cities()\n",
    "df_cities = pd.DataFrame(cities)\n",
    "df_cities.head()\n",
    "df_cities = df_cities.transpose()\n",
    "df_cities['name'].value_counts()\n",
    "# unidecode can help\n",
    "\n",
    "#print(\"Original:  {}    vs. the unidecode version: {}\".format(n,unidecode(n)))\n",
    "# create a column for simplified city names and write out this entire dataframe for use in other projects\n",
    "df_cities['simple_name'] = df_cities['name'].apply(lambda x: unidecode(x))"
   ]
  },
  {
   "cell_type": "code",
   "execution_count": 17,
   "metadata": {},
   "outputs": [
    {
     "data": {
      "text/html": [
       "<div>\n",
       "<style scoped>\n",
       "    .dataframe tbody tr th:only-of-type {\n",
       "        vertical-align: middle;\n",
       "    }\n",
       "\n",
       "    .dataframe tbody tr th {\n",
       "        vertical-align: top;\n",
       "    }\n",
       "\n",
       "    .dataframe thead th {\n",
       "        text-align: right;\n",
       "    }\n",
       "</style>\n",
       "<table border=\"1\" class=\"dataframe\">\n",
       "  <thead>\n",
       "    <tr style=\"text-align: right;\">\n",
       "      <th></th>\n",
       "      <th>geonameid</th>\n",
       "      <th>name</th>\n",
       "      <th>latitude</th>\n",
       "      <th>longitude</th>\n",
       "      <th>countrycode</th>\n",
       "      <th>population</th>\n",
       "      <th>timezone</th>\n",
       "      <th>admin1code</th>\n",
       "      <th>simple_name</th>\n",
       "    </tr>\n",
       "  </thead>\n",
       "  <tbody>\n",
       "    <tr>\n",
       "      <th>3041563</th>\n",
       "      <td>3041563</td>\n",
       "      <td>Andorra la Vella</td>\n",
       "      <td>42.5078</td>\n",
       "      <td>1.52109</td>\n",
       "      <td>AD</td>\n",
       "      <td>20430</td>\n",
       "      <td>Europe/Andorra</td>\n",
       "      <td>07</td>\n",
       "      <td>Andorra la Vella</td>\n",
       "    </tr>\n",
       "    <tr>\n",
       "      <th>290594</th>\n",
       "      <td>290594</td>\n",
       "      <td>Umm Al Quwain City</td>\n",
       "      <td>25.5647</td>\n",
       "      <td>55.5552</td>\n",
       "      <td>AE</td>\n",
       "      <td>62747</td>\n",
       "      <td>Asia/Dubai</td>\n",
       "      <td>07</td>\n",
       "      <td>Umm Al Quwain City</td>\n",
       "    </tr>\n",
       "    <tr>\n",
       "      <th>291074</th>\n",
       "      <td>291074</td>\n",
       "      <td>Ras Al Khaimah City</td>\n",
       "      <td>25.7895</td>\n",
       "      <td>55.9432</td>\n",
       "      <td>AE</td>\n",
       "      <td>351943</td>\n",
       "      <td>Asia/Dubai</td>\n",
       "      <td>05</td>\n",
       "      <td>Ras Al Khaimah City</td>\n",
       "    </tr>\n",
       "  </tbody>\n",
       "</table>\n",
       "</div>"
      ],
      "text/plain": [
       "        geonameid                 name latitude longitude countrycode  \\\n",
       "3041563   3041563     Andorra la Vella  42.5078   1.52109          AD   \n",
       "290594     290594   Umm Al Quwain City  25.5647   55.5552          AE   \n",
       "291074     291074  Ras Al Khaimah City  25.7895   55.9432          AE   \n",
       "\n",
       "        population        timezone admin1code          simple_name  \n",
       "3041563      20430  Europe/Andorra         07     Andorra la Vella  \n",
       "290594       62747      Asia/Dubai         07   Umm Al Quwain City  \n",
       "291074      351943      Asia/Dubai         05  Ras Al Khaimah City  "
      ]
     },
     "execution_count": 17,
     "metadata": {},
     "output_type": "execute_result"
    }
   ],
   "source": [
    "df_cities.head(n=3)"
   ]
  },
  {
   "cell_type": "code",
   "execution_count": 18,
   "metadata": {},
   "outputs": [],
   "source": [
    "df[['latitude','longitude','cityduplicates','countrycode']] = df.apply(\n",
    "    lambda row: pd.Series(get_lat_long(row['city'],row['country'])), axis=1)"
   ]
  },
  {
   "cell_type": "code",
   "execution_count": 19,
   "metadata": {},
   "outputs": [
    {
     "data": {
      "text/html": [
       "<div>\n",
       "<style scoped>\n",
       "    .dataframe tbody tr th:only-of-type {\n",
       "        vertical-align: middle;\n",
       "    }\n",
       "\n",
       "    .dataframe tbody tr th {\n",
       "        vertical-align: top;\n",
       "    }\n",
       "\n",
       "    .dataframe thead th {\n",
       "        text-align: right;\n",
       "    }\n",
       "</style>\n",
       "<table border=\"1\" class=\"dataframe\">\n",
       "  <thead>\n",
       "    <tr style=\"text-align: right;\">\n",
       "      <th></th>\n",
       "      <th>headline</th>\n",
       "      <th>city</th>\n",
       "      <th>country</th>\n",
       "      <th>latitude</th>\n",
       "      <th>longitude</th>\n",
       "      <th>cityduplicates</th>\n",
       "      <th>countrycode</th>\n",
       "    </tr>\n",
       "  </thead>\n",
       "  <tbody>\n",
       "    <tr>\n",
       "      <th>0</th>\n",
       "      <td>Pedro Juan Caballero Encounters Severe Symptom...</td>\n",
       "      <td>Pedro Juan Caballero</td>\n",
       "      <td>NaN</td>\n",
       "      <td>-22.54722</td>\n",
       "      <td>-55.73333</td>\n",
       "      <td>1</td>\n",
       "      <td>PY</td>\n",
       "    </tr>\n",
       "    <tr>\n",
       "      <th>1</th>\n",
       "      <td>Rumors about Hepatitis D Spreading in San Juan...</td>\n",
       "      <td>San Juan Capistrano</td>\n",
       "      <td>NaN</td>\n",
       "      <td>33.50169</td>\n",
       "      <td>-117.66255</td>\n",
       "      <td>1</td>\n",
       "      <td>US</td>\n",
       "    </tr>\n",
       "    <tr>\n",
       "      <th>2</th>\n",
       "      <td>Zika Spreads to Palm Beach Gardens</td>\n",
       "      <td>Palm Beach Gardens</td>\n",
       "      <td>NaN</td>\n",
       "      <td>26.82339</td>\n",
       "      <td>-80.13865</td>\n",
       "      <td>1</td>\n",
       "      <td>US</td>\n",
       "    </tr>\n",
       "    <tr>\n",
       "      <th>3</th>\n",
       "      <td>Zika Reported in North Miami Beach</td>\n",
       "      <td>North Miami Beach</td>\n",
       "      <td>NaN</td>\n",
       "      <td>25.93315</td>\n",
       "      <td>-80.16255</td>\n",
       "      <td>1</td>\n",
       "      <td>US</td>\n",
       "    </tr>\n",
       "    <tr>\n",
       "      <th>4</th>\n",
       "      <td>Zika cases in Vietnam's Ho Chi Minh City surge</td>\n",
       "      <td>Ho Chi Minh City</td>\n",
       "      <td>Vietnam</td>\n",
       "      <td>10.82302</td>\n",
       "      <td>106.62965</td>\n",
       "      <td>1</td>\n",
       "      <td>VN</td>\n",
       "    </tr>\n",
       "  </tbody>\n",
       "</table>\n",
       "</div>"
      ],
      "text/plain": [
       "                                            headline                  city  \\\n",
       "0  Pedro Juan Caballero Encounters Severe Symptom...  Pedro Juan Caballero   \n",
       "1  Rumors about Hepatitis D Spreading in San Juan...   San Juan Capistrano   \n",
       "2                 Zika Spreads to Palm Beach Gardens    Palm Beach Gardens   \n",
       "3                 Zika Reported in North Miami Beach     North Miami Beach   \n",
       "4     Zika cases in Vietnam's Ho Chi Minh City surge      Ho Chi Minh City   \n",
       "\n",
       "   country  latitude  longitude  cityduplicates countrycode  \n",
       "0      NaN -22.54722  -55.73333               1          PY  \n",
       "1      NaN  33.50169 -117.66255               1          US  \n",
       "2      NaN  26.82339  -80.13865               1          US  \n",
       "3      NaN  25.93315  -80.16255               1          US  \n",
       "4  Vietnam  10.82302  106.62965               1          VN  "
      ]
     },
     "execution_count": 19,
     "metadata": {},
     "output_type": "execute_result"
    }
   ],
   "source": [
    "df.head()"
   ]
  },
  {
   "cell_type": "code",
   "execution_count": 20,
   "metadata": {},
   "outputs": [
    {
     "data": {
      "text/html": [
       "<div>\n",
       "<style scoped>\n",
       "    .dataframe tbody tr th:only-of-type {\n",
       "        vertical-align: middle;\n",
       "    }\n",
       "\n",
       "    .dataframe tbody tr th {\n",
       "        vertical-align: top;\n",
       "    }\n",
       "\n",
       "    .dataframe thead th {\n",
       "        text-align: right;\n",
       "    }\n",
       "</style>\n",
       "<table border=\"1\" class=\"dataframe\">\n",
       "  <thead>\n",
       "    <tr style=\"text-align: right;\">\n",
       "      <th></th>\n",
       "      <th>headline</th>\n",
       "      <th>city</th>\n",
       "      <th>country</th>\n",
       "      <th>latitude</th>\n",
       "      <th>longitude</th>\n",
       "      <th>cityduplicates</th>\n",
       "      <th>countrycode</th>\n",
       "    </tr>\n",
       "  </thead>\n",
       "  <tbody>\n",
       "    <tr>\n",
       "      <th>100</th>\n",
       "      <td>Zika San Antonio Patient Speaks Out</td>\n",
       "      <td>San Antonio</td>\n",
       "      <td>NaN</td>\n",
       "      <td>29.42412</td>\n",
       "      <td>-98.49363</td>\n",
       "      <td>5</td>\n",
       "      <td>US</td>\n",
       "    </tr>\n",
       "  </tbody>\n",
       "</table>\n",
       "</div>"
      ],
      "text/plain": [
       "                                headline         city country  latitude  \\\n",
       "100  Zika San Antonio Patient Speaks Out  San Antonio     NaN  29.42412   \n",
       "\n",
       "     longitude  cityduplicates countrycode  \n",
       "100  -98.49363               5          US  "
      ]
     },
     "execution_count": 20,
     "metadata": {},
     "output_type": "execute_result"
    }
   ],
   "source": [
    "df[df['city']=='San Antonio']"
   ]
  },
  {
   "cell_type": "code",
   "execution_count": 21,
   "metadata": {},
   "outputs": [
    {
     "data": {
      "text/html": [
       "<div>\n",
       "<style scoped>\n",
       "    .dataframe tbody tr th:only-of-type {\n",
       "        vertical-align: middle;\n",
       "    }\n",
       "\n",
       "    .dataframe tbody tr th {\n",
       "        vertical-align: top;\n",
       "    }\n",
       "\n",
       "    .dataframe thead th {\n",
       "        text-align: right;\n",
       "    }\n",
       "</style>\n",
       "<table border=\"1\" class=\"dataframe\">\n",
       "  <thead>\n",
       "    <tr style=\"text-align: right;\">\n",
       "      <th></th>\n",
       "      <th>headline</th>\n",
       "      <th>city</th>\n",
       "      <th>country</th>\n",
       "      <th>latitude</th>\n",
       "      <th>longitude</th>\n",
       "      <th>cityduplicates</th>\n",
       "      <th>countrycode</th>\n",
       "    </tr>\n",
       "  </thead>\n",
       "  <tbody>\n",
       "    <tr>\n",
       "      <th>2</th>\n",
       "      <td>Zika Spreads to Palm Beach Gardens</td>\n",
       "      <td>Palm Beach Gardens</td>\n",
       "      <td>NaN</td>\n",
       "      <td>26.82339</td>\n",
       "      <td>-80.13865</td>\n",
       "      <td>1</td>\n",
       "      <td>US</td>\n",
       "    </tr>\n",
       "  </tbody>\n",
       "</table>\n",
       "</div>"
      ],
      "text/plain": [
       "                             headline                city country  latitude  \\\n",
       "2  Zika Spreads to Palm Beach Gardens  Palm Beach Gardens     NaN  26.82339   \n",
       "\n",
       "   longitude  cityduplicates countrycode  \n",
       "2  -80.13865               1          US  "
      ]
     },
     "execution_count": 21,
     "metadata": {},
     "output_type": "execute_result"
    }
   ],
   "source": [
    "df[df['city']=='Palm Beach Gardens']"
   ]
  },
  {
   "cell_type": "markdown",
   "metadata": {},
   "source": [
    "## Step 3: Final checks\n",
    "\n",
    "How many observations are left?\n",
    "Does the data make sense?"
   ]
  },
  {
   "cell_type": "code",
   "execution_count": 22,
   "metadata": {},
   "outputs": [
    {
     "name": "stdout",
     "output_type": "stream",
     "text": [
      "Check missing lat, long, cc, country: 0, 0  0 601\n"
     ]
    }
   ],
   "source": [
    "print('Check missing lat, long, cc, country: {}, {}  {} {}'.format(df['latitude'].isna().sum(),\\\n",
    "                                                       df['longitude'].isna().sum(),\\\n",
    "                                                       df['countrycode'].isna().sum(),\\\n",
    "                                                       df['country'].isna().sum()))\n",
    "# Note that country is expected to have > 0 NaN since we added 'countrycode' instead of backfilling 'country'"
   ]
  },
  {
   "cell_type": "code",
   "execution_count": 23,
   "metadata": {},
   "outputs": [
    {
     "name": "stdout",
     "output_type": "stream",
     "text": [
      "Check missing headline, cityduplicates 0 0\n"
     ]
    }
   ],
   "source": [
    "print('Check missing headline, cityduplicates {} {}'.format(df['headline'].isna().sum(),\\\n",
    "                                                           df['cityduplicates'].isna().sum()))"
   ]
  },
  {
   "cell_type": "code",
   "execution_count": 24,
   "metadata": {},
   "outputs": [
    {
     "data": {
      "text/plain": [
       "headline          Spike of Pneumonia Cases in Springfield\n",
       "city                                          Springfield\n",
       "country                                               NaN\n",
       "latitude                                          37.2153\n",
       "longitude                                        -93.2982\n",
       "cityduplicates                                          8\n",
       "countrycode                                            US\n",
       "Name: 85, dtype: object"
      ]
     },
     "execution_count": 24,
     "metadata": {},
     "output_type": "execute_result"
    }
   ],
   "source": [
    "df.loc[df['cityduplicates'].idxmax()]"
   ]
  },
  {
   "cell_type": "code",
   "execution_count": 25,
   "metadata": {},
   "outputs": [
    {
     "data": {
      "text/plain": [
       "(609, 7)"
      ]
     },
     "execution_count": 25,
     "metadata": {},
     "output_type": "execute_result"
    }
   ],
   "source": [
    "df.shape\n",
    "# final list has 609 entries, 7 columns"
   ]
  },
  {
   "cell_type": "code",
   "execution_count": 26,
   "metadata": {},
   "outputs": [
    {
     "data": {
      "text/plain": [
       "headline           object\n",
       "city               object\n",
       "country            object\n",
       "latitude          float64\n",
       "longitude         float64\n",
       "cityduplicates      int64\n",
       "countrycode        object\n",
       "dtype: object"
      ]
     },
     "execution_count": 26,
     "metadata": {},
     "output_type": "execute_result"
    }
   ],
   "source": [
    "df.dtypes"
   ]
  },
  {
   "cell_type": "code",
   "execution_count": 27,
   "metadata": {},
   "outputs": [],
   "source": [
    "colors = np.where(df[\"cityduplicates\"]==1,'b','r')      # color dups red"
   ]
  },
  {
   "cell_type": "code",
   "execution_count": 28,
   "metadata": {},
   "outputs": [
    {
     "data": {
      "text/plain": [
       "<matplotlib.axes._subplots.AxesSubplot at 0x29e0e2c1fc8>"
      ]
     },
     "execution_count": 28,
     "metadata": {},
     "output_type": "execute_result"
    },
    {
     "data": {
      "image/png": "[encoded data removed]",
      "text/plain": [
       "<Figure size 432x288 with 1 Axes>"
      ]
     },
     "metadata": {
      "needs_background": "light"
     },
     "output_type": "display_data"
    }
   ],
   "source": [
    "df[['latitude','longitude']].plot.scatter(x='longitude',y='latitude',c=colors)\n",
    "# color of the dot is set by the number of same-named cities; this may be a clue that it's in the wrong place"
   ]
  },
  {
   "cell_type": "code",
   "execution_count": null,
   "metadata": {},
   "outputs": [],
   "source": []
  },
  {
   "cell_type": "code",
   "execution_count": 29,
   "metadata": {},
   "outputs": [
    {
     "name": "stdout",
     "output_type": "stream",
     "text": [
      "type is <class 'list'> and <class 'float'>\n"
     ]
    }
   ],
   "source": [
    "# Plot all cities on a map\n",
    "\n",
    "all_lat = list(df['latitude'])\n",
    "all_lon = list(df['longitude'])\n",
    "\n",
    "print('type is {} and {}'.format(type(all_lat), type(all_lat[0])))\n",
    "# plotting is going to want these to be python float, not np.float64, so convert to list"
   ]
  },
  {
   "cell_type": "code",
   "execution_count": 30,
   "metadata": {},
   "outputs": [
    {
     "data": {
      "image/png": "[encoded data removed]",
      "text/plain": [
       "<Figure size 864x720 with 1 Axes>"
      ]
     },
     "metadata": {},
     "output_type": "display_data"
    }
   ],
   "source": [
    "fig = plt.figure(figsize=(12, 10))\n",
    "if (0):\n",
    "    map_plotter = Basemap(projection='ortho',lat_0=40, lon_0=-95)  # projection options: ortho, lcc\n",
    "\n",
    "else:\n",
    "    map_plotter = Basemap(projection='mill',llcrnrlat=-90,urcrnrlat=90,\\\n",
    "           llcrnrlon = -180, urcrnrlon=180,resolution='l')\n",
    "\n",
    "\n",
    "map_plotter.scatter(all_lon,\\\n",
    "                    all_lat,\\\n",
    "                    latlon=True)\n",
    "map_plotter.drawcoastlines()\n",
    "map_plotter.drawcountries()\n",
    "plt.show()"
   ]
  },
  {
   "cell_type": "code",
   "execution_count": 31,
   "metadata": {},
   "outputs": [
    {
     "data": {
      "text/html": [
       "<div>\n",
       "<style scoped>\n",
       "    .dataframe tbody tr th:only-of-type {\n",
       "        vertical-align: middle;\n",
       "    }\n",
       "\n",
       "    .dataframe tbody tr th {\n",
       "        vertical-align: top;\n",
       "    }\n",
       "\n",
       "    .dataframe thead th {\n",
       "        text-align: right;\n",
       "    }\n",
       "</style>\n",
       "<table border=\"1\" class=\"dataframe\">\n",
       "  <thead>\n",
       "    <tr style=\"text-align: right;\">\n",
       "      <th></th>\n",
       "      <th>headline</th>\n",
       "      <th>city</th>\n",
       "      <th>country</th>\n",
       "      <th>latitude</th>\n",
       "      <th>longitude</th>\n",
       "      <th>cityduplicates</th>\n",
       "      <th>countrycode</th>\n",
       "    </tr>\n",
       "  </thead>\n",
       "  <tbody>\n",
       "    <tr>\n",
       "      <th>4</th>\n",
       "      <td>Zika cases in Vietnam's Ho Chi Minh City surge</td>\n",
       "      <td>Ho Chi Minh City</td>\n",
       "      <td>Vietnam</td>\n",
       "      <td>10.82302</td>\n",
       "      <td>106.62965</td>\n",
       "      <td>1</td>\n",
       "      <td>VN</td>\n",
       "    </tr>\n",
       "    <tr>\n",
       "      <th>34</th>\n",
       "      <td>New Zika Case in Kota Kinabalu, Malaysia</td>\n",
       "      <td>Kota Kinabalu</td>\n",
       "      <td>Malaysia</td>\n",
       "      <td>5.97490</td>\n",
       "      <td>116.07240</td>\n",
       "      <td>1</td>\n",
       "      <td>MY</td>\n",
       "    </tr>\n",
       "    <tr>\n",
       "      <th>76</th>\n",
       "      <td>Zika reaches Johor Bahru, Malaysia</td>\n",
       "      <td>Johor Bahru</td>\n",
       "      <td>Malaysia</td>\n",
       "      <td>1.46550</td>\n",
       "      <td>103.75780</td>\n",
       "      <td>1</td>\n",
       "      <td>MY</td>\n",
       "    </tr>\n",
       "    <tr>\n",
       "      <th>178</th>\n",
       "      <td>Zika outbreak in Piracicaba, Brazil</td>\n",
       "      <td>Piracicaba</td>\n",
       "      <td>Brazil</td>\n",
       "      <td>-22.72528</td>\n",
       "      <td>-47.64917</td>\n",
       "      <td>1</td>\n",
       "      <td>BR</td>\n",
       "    </tr>\n",
       "    <tr>\n",
       "      <th>279</th>\n",
       "      <td>Student sick in Campinas, Brazil</td>\n",
       "      <td>Campinas</td>\n",
       "      <td>Brazil</td>\n",
       "      <td>-22.90556</td>\n",
       "      <td>-47.06083</td>\n",
       "      <td>2</td>\n",
       "      <td>BR</td>\n",
       "    </tr>\n",
       "    <tr>\n",
       "      <th>348</th>\n",
       "      <td>Thailand-Zika Virus in Bangkok</td>\n",
       "      <td>Bangkok</td>\n",
       "      <td>Thailand</td>\n",
       "      <td>13.75398</td>\n",
       "      <td>100.50144</td>\n",
       "      <td>1</td>\n",
       "      <td>TH</td>\n",
       "    </tr>\n",
       "    <tr>\n",
       "      <th>478</th>\n",
       "      <td>Mystery Virus Spreads in Recife, Brazil</td>\n",
       "      <td>Recife</td>\n",
       "      <td>Brazil</td>\n",
       "      <td>-8.05389</td>\n",
       "      <td>-34.88111</td>\n",
       "      <td>1</td>\n",
       "      <td>BR</td>\n",
       "    </tr>\n",
       "    <tr>\n",
       "      <th>575</th>\n",
       "      <td>Zika surfaces in Klang, Malaysia</td>\n",
       "      <td>Klang</td>\n",
       "      <td>Malaysia</td>\n",
       "      <td>3.03667</td>\n",
       "      <td>101.44333</td>\n",
       "      <td>1</td>\n",
       "      <td>MY</td>\n",
       "    </tr>\n",
       "  </tbody>\n",
       "</table>\n",
       "</div>"
      ],
      "text/plain": [
       "                                           headline              city  \\\n",
       "4    Zika cases in Vietnam's Ho Chi Minh City surge  Ho Chi Minh City   \n",
       "34         New Zika Case in Kota Kinabalu, Malaysia     Kota Kinabalu   \n",
       "76               Zika reaches Johor Bahru, Malaysia       Johor Bahru   \n",
       "178             Zika outbreak in Piracicaba, Brazil        Piracicaba   \n",
       "279                Student sick in Campinas, Brazil          Campinas   \n",
       "348                  Thailand-Zika Virus in Bangkok           Bangkok   \n",
       "478         Mystery Virus Spreads in Recife, Brazil            Recife   \n",
       "575                Zika surfaces in Klang, Malaysia             Klang   \n",
       "\n",
       "      country  latitude  longitude  cityduplicates countrycode  \n",
       "4     Vietnam  10.82302  106.62965               1          VN  \n",
       "34   Malaysia   5.97490  116.07240               1          MY  \n",
       "76   Malaysia   1.46550  103.75780               1          MY  \n",
       "178    Brazil -22.72528  -47.64917               1          BR  \n",
       "279    Brazil -22.90556  -47.06083               2          BR  \n",
       "348  Thailand  13.75398  100.50144               1          TH  \n",
       "478    Brazil  -8.05389  -34.88111               1          BR  \n",
       "575  Malaysia   3.03667  101.44333               1          MY  "
      ]
     },
     "execution_count": 31,
     "metadata": {},
     "output_type": "execute_result"
    }
   ],
   "source": [
    "# Didn't check that headlines with the country listed ended up with the correct country...did they?\n",
    "df[df['country'].notna()]\n",
    "# Yes, they did, but it would be wise to add the check in the future; it may help identify an \n",
    "# incorrectly chosen city if there were others of the same name"
   ]
  },
  {
   "cell_type": "code",
   "execution_count": 32,
   "metadata": {},
   "outputs": [],
   "source": [
    "df.to_csv('headlines_lat_long_cc.csv',index=False)"
   ]
  },
  {
   "cell_type": "code",
   "execution_count": null,
   "metadata": {},
   "outputs": [],
   "source": []
  }
 ],
 "metadata": {
  "kernelspec": {
   "display_name": "Python 3",
   "language": "python",
   "name": "python3"
  },
  "language_info": {
   "codemirror_mode": {
    "name": "ipython",
    "version": 3
   },
   "file_extension": ".py",
   "mimetype": "text/x-python",
   "name": "python",
   "nbconvert_exporter": "python",
   "pygments_lexer": "ipython3",
   "version": "3.7.6"
  }
 },
 "nbformat": 4,
 "nbformat_minor": 4
}
