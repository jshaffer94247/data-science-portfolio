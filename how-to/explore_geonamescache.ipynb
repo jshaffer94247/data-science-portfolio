{
 "cells": [
  {
   "cell_type": "markdown",
   "metadata": {},
   "source": [
    "# Exploring GeoNamesCache v1.1.0 \n",
    "\n",
    "## GeoNamesCache leverages information at geonames.org \n",
    "The geonamescache python library provides handy methods to fetch information in an organized structure.\n",
    "\n",
    "### This notebook explores \n",
    "* what's in the GeoNamesCache python library and \n",
    "* what's NOT in the library <br> \n",
    "as both of these aspects can impact the quality of any analysis that relies on this information.\n",
    "\n",
    "### https://pypi.org/project/geonamescache"
   ]
  },
  {
   "cell_type": "code",
   "execution_count": 1,
   "metadata": {},
   "outputs": [],
   "source": [
    "# Imports used in Part 1\n",
    "import pandas as pd\n",
    "from unidecode import unidecode             # tidy up names for later comparisons\n",
    "import geonamescache         # identify cities and countries and their locations\n",
    "\n",
    "# Imports used in Part 2\n",
    "import matplotlib.pyplot as plt\n",
    "from mpl_toolkits.basemap import Basemap                  # geographic visualization\n",
    "\n",
    "# PEP 484 type hints are easier with this\n",
    "from typing import Tuple"
   ]
  },
  {
   "cell_type": "code",
   "execution_count": 2,
   "metadata": {},
   "outputs": [
    {
     "name": "stdout",
     "output_type": "stream",
     "text": [
      "'pandas'  version is  0.25.0\n",
      "'geonamescache'  version is  1.1.0\n"
     ]
    }
   ],
   "source": [
    "for library in [pd,geonamescache]:\n",
    "    libname = (str(library)).split()[1]\n",
    "    print(libname,\" version is \",library.__version__)"
   ]
  },
  {
   "cell_type": "markdown",
   "metadata": {},
   "source": [
    "## Geo Names Cache - Part 1 - Contents\n",
    "### 5 categories:\n",
    "\n",
    "1. Continents\n",
    "1. Countries\n",
    "1. States - U.S. only. Equivalent regions not yet available for other countries.\n",
    "1. Counties - U.S. only. Equivalent regions not yet available for other countires.\n",
    "1. Cities\n",
    "\n",
    "Each of these 5 types of items has a 'geonameid' which may provide another way to \n",
    "locate the information if you choose to store it."
   ]
  },
  {
   "cell_type": "code",
   "execution_count": 3,
   "metadata": {},
   "outputs": [],
   "source": [
    "# First step when using geonamescache\n",
    "gc = geonamescache.GeonamesCache()"
   ]
  },
  {
   "cell_type": "markdown",
   "metadata": {},
   "source": [
    "### Category 1: Continents\n",
    "\n",
    "Key information for continents incudes:\n",
    "    * bounding boxes as bbox with latitude and longitude\n",
    "    * list of countries contained as cc2\n",
    "    * continent code, e.g. AF, NA\n",
    "    * continent name\n",
    "\n",
    "Method examples:\n",
    "    * gc.get_continents()['NA']       Access the continents by code\n",
    "    \n",
    "Data Example: <br> \n",
    "'AF': {'lng': '21.09375',\n",
    " 'geonameId': 6255146,\n",
    "  'geonameId': 6255146,\n",
    "  'timezone': {'gmtOffset': 1, 'timeZoneId': 'Africa/Bangui', 'dstOffset': 1},\n",
    "  'bbox': {'east': 63.49390709700003,\n",
    "   'south': -37.432486921640724,\n",
    "   'north': 37.5598406350001,\n",
    "   'west': -25.36118769,\n",
    "   'accuracyLevel': 0},\n",
    "...\n",
    "   {'name': 'África', 'lang': 'pt'},\n",
    " ...\n",
    "   {'name': '非洲', 'lang': 'zh'}],\n",
    "  'cc2': 'AO,BF,BI,BJ,BW,CD,CF,CG,CI,CM,CV,DJ,DZ,EG,ER,ET,GA,GH,GM,GN,GQ,GW,KE,KM,LR,LS,LY,MA,MG,\n",
    "          ML,MR,MU,MW,MZ,NA,NE,NG,RE,RW,SC,SD,SH,SL,SN,SO,SS,ST,SZ,TD,TG,TN,TZ,UG,YT,ZA,ZM,ZW',\n",
    "  'adminName2': '',\n",
    "  'name': 'Africa',\n",
    "...\n",
    "  'continentCode': 'AF'},"
   ]
  },
  {
   "cell_type": "code",
   "execution_count": 4,
   "metadata": {},
   "outputs": [
    {
     "data": {
      "text/plain": [
       "dict"
      ]
     },
     "execution_count": 4,
     "metadata": {},
     "output_type": "execute_result"
    }
   ],
   "source": [
    "continents = gc.get_continents()\n",
    "type(continents)"
   ]
  },
  {
   "cell_type": "code",
   "execution_count": 5,
   "metadata": {},
   "outputs": [
    {
     "data": {
      "text/plain": [
       "'North America'"
      ]
     },
     "execution_count": 5,
     "metadata": {},
     "output_type": "execute_result"
    }
   ],
   "source": [
    "continents['NA']['asciiName']"
   ]
  },
  {
   "cell_type": "code",
   "execution_count": 6,
   "metadata": {},
   "outputs": [
    {
     "data": {
      "text/plain": [
       "'AG,AI,AW,BB,BL,BM,BQ,BS,BZ,CA,CR,CU,CW,DM,DO,GD,GL,GP,GT,HN,HT,JM,KN,KY,LC,MF,MQ,MS,MX,NI,PA,PM,PR,SV,SX,TC,TT,US,VC,VG,VI'"
      ]
     },
     "execution_count": 6,
     "metadata": {},
     "output_type": "execute_result"
    }
   ],
   "source": [
    "continents['NA']['cc2']  ## countries included"
   ]
  },
  {
   "cell_type": "markdown",
   "metadata": {},
   "source": [
    "### Category 2: Countries\n",
    "\n",
    "Key information for countries incudes:\n",
    "    * country code (useful for cross-referencing with cities or continents)\n",
    "    * list of neighbours\n",
    "    * capital city\n",
    "    \n",
    "Method examples:\n",
    "    * gc.get_countries()['AD']                    Accessed by country code \n",
    "    * gc.get_countries_by_names()['Andorra']      Accessed by country name \n",
    "\n",
    "Data example: <br> \n",
    "\n",
    "'AD': {'geonameid': 3041565, 'name': 'Andorra', 'iso': 'AD', 'iso3': 'AND', \n",
    "      'isonumeric': 20, 'fips': 'AN', 'continentcode': 'EU', 'capital': 'Andorra la Vella', \n",
    "      'areakm2': 468, 'population': 84000, 'tld': '.ad', 'currencycode': 'EUR', 'currencyname': \n",
    "      'Euro', 'phone': '376', 'postalcoderegex': '^(?:AD)*(\\\\d{3})$', 'languages': 'ca', 'neighbours': 'ES,FR'},"
   ]
  },
  {
   "cell_type": "code",
   "execution_count": 7,
   "metadata": {},
   "outputs": [
    {
     "data": {
      "text/plain": [
       "dict"
      ]
     },
     "execution_count": 7,
     "metadata": {},
     "output_type": "execute_result"
    }
   ],
   "source": [
    "countries = gc.get_countries()\n",
    "type(countries)"
   ]
  },
  {
   "cell_type": "code",
   "execution_count": 8,
   "metadata": {},
   "outputs": [
    {
     "data": {
      "text/plain": [
       "{'geonameid': 3041565,\n",
       " 'name': 'Andorra',\n",
       " 'iso': 'AD',\n",
       " 'iso3': 'AND',\n",
       " 'isonumeric': 20,\n",
       " 'fips': 'AN',\n",
       " 'continentcode': 'EU',\n",
       " 'capital': 'Andorra la Vella',\n",
       " 'areakm2': 468,\n",
       " 'population': 84000,\n",
       " 'tld': '.ad',\n",
       " 'currencycode': 'EUR',\n",
       " 'currencyname': 'Euro',\n",
       " 'phone': '376',\n",
       " 'postalcoderegex': '^(?:AD)*(\\\\d{3})$',\n",
       " 'languages': 'ca',\n",
       " 'neighbours': 'ES,FR'}"
      ]
     },
     "execution_count": 8,
     "metadata": {},
     "output_type": "execute_result"
    }
   ],
   "source": [
    "gc.get_countries_by_names()['Andorra']"
   ]
  },
  {
   "cell_type": "code",
   "execution_count": 9,
   "metadata": {},
   "outputs": [
    {
     "name": "stdout",
     "output_type": "stream",
     "text": [
      "Country: Andorra.  The capital is Andorra la Vella. This country has a population of 84000, an area of 468 km2,\n",
      " and is neighbors with ES,FR.\n"
     ]
    }
   ],
   "source": [
    "print('Country: {}.  The capital is {}. This country has a population of {}, an area of {} km2,\\n and is neighbors with {}.'.format(\\\n",
    "      countries['AD']['name'],countries['AD']['capital'],countries['AD']['population'],\\\n",
    "      countries['AD']['areakm2'], countries['AD']['neighbours']))"
   ]
  },
  {
   "cell_type": "markdown",
   "metadata": {},
   "source": [
    "### Category 3: States (U.S. only)\n",
    "\n",
    "Key information for states is very limited:\n",
    "    * name\n",
    "    * code\n",
    "    \n",
    "Notes:\n",
    "    * Neither the state capital nor any lat, long data is available.\n",
    "    * There are no duplicates.\n",
    "    \n",
    "Method examples:\n",
    "    * gc.get_us_states()['AK']                    Accessed by state code \n",
    "    * gc.get_us_states_by_names()['Alaska']      Accessed by state name \n",
    "\n",
    "Data example: <br>   \n",
    "'AK': {'code': 'AK', 'name': 'Alaska', 'fips': '02', 'geonameid': 5879092},"
   ]
  },
  {
   "cell_type": "code",
   "execution_count": 10,
   "metadata": {},
   "outputs": [
    {
     "data": {
      "text/plain": [
       "dict"
      ]
     },
     "execution_count": 10,
     "metadata": {},
     "output_type": "execute_result"
    }
   ],
   "source": [
    "us_states = gc.get_us_states()\n",
    "type(us_states)"
   ]
  },
  {
   "cell_type": "code",
   "execution_count": 11,
   "metadata": {},
   "outputs": [
    {
     "data": {
      "text/plain": [
       "{'code': 'AK', 'name': 'Alaska', 'fips': '02', 'geonameid': 5879092}"
      ]
     },
     "execution_count": 11,
     "metadata": {},
     "output_type": "execute_result"
    }
   ],
   "source": [
    "us_states['AK']"
   ]
  },
  {
   "cell_type": "code",
   "execution_count": 12,
   "metadata": {},
   "outputs": [
    {
     "data": {
      "text/plain": [
       "{'code': 'AK', 'name': 'Alaska', 'fips': '02', 'geonameid': 5879092}"
      ]
     },
     "execution_count": 12,
     "metadata": {},
     "output_type": "execute_result"
    }
   ],
   "source": [
    "gc.get_us_states_by_names()['Alaska']"
   ]
  },
  {
   "cell_type": "markdown",
   "metadata": {},
   "source": [
    "### Category 4: Counties (U.S. only)\n",
    "\n",
    "Key information for counties incudes:\n",
    "    * state in which the county resides\n",
    "\n",
    "Notes:\n",
    "    * No county seat (akin to a capital city) nor any lat, long are available.\n",
    "    * There are many duplicates.\n",
    "    * Unlike all other data, this data is in a list, not a dictionary.\n",
    "    \n",
    "Method examples:\n",
    "    * gc.get_us_counties() \n",
    "\n",
    "Example: <br> \n",
    "{'fips': '01003', 'name': 'Baldwin County', 'state': 'AL'}"
   ]
  },
  {
   "cell_type": "code",
   "execution_count": 13,
   "metadata": {},
   "outputs": [
    {
     "data": {
      "text/plain": [
       "list"
      ]
     },
     "execution_count": 13,
     "metadata": {},
     "output_type": "execute_result"
    }
   ],
   "source": [
    "us_counties = gc.get_us_counties()\n",
    "type(us_counties)"
   ]
  },
  {
   "cell_type": "code",
   "execution_count": 14,
   "metadata": {},
   "outputs": [
    {
     "data": {
      "text/plain": [
       "{'fips': '01003', 'name': 'Baldwin County', 'state': 'AL'}"
      ]
     },
     "execution_count": 14,
     "metadata": {},
     "output_type": "execute_result"
    }
   ],
   "source": [
    "us_counties[0]"
   ]
  },
  {
   "cell_type": "code",
   "execution_count": 15,
   "metadata": {},
   "outputs": [
    {
     "data": {
      "text/plain": [
       "Washington County              30\n",
       "Jefferson County               25\n",
       "Franklin County                24\n",
       "Jackson County                 23\n",
       "Lincoln County                 23\n",
       "                               ..\n",
       "Craven County                   1\n",
       "Nottoway County                 1\n",
       "St. John the Baptist Parish     1\n",
       "Kitsap County                   1\n",
       "Cuyahoga County                 1\n",
       "Name: name, Length: 1968, dtype: int64"
      ]
     },
     "execution_count": 15,
     "metadata": {},
     "output_type": "execute_result"
    }
   ],
   "source": [
    "df_counties = pd.DataFrame(us_counties)\n",
    "df_counties['name'].value_counts()"
   ]
  },
  {
   "cell_type": "markdown",
   "metadata": {},
   "source": [
    "### Category 5: Cities\n",
    "\n",
    "Key information for cities incudes:\n",
    "    * latitude\n",
    "    * longitude\n",
    "    * population\n",
    "    * country code\n",
    "    * timezone\n",
    "    \n",
    "Notes:\n",
    "    * Cities do not follow the same pattern; you must know the geonameid to access the dictionary\n",
    "    * get_cities_by_name does not use city as a key; you need to pass in the name\n",
    "    * There are many duplicates\n",
    "\n",
    "Method examples:\n",
    "    * gc.get_cities()['4930956']        Accessed by geonameid \n",
    "    * gc.get_cities_by_name('Boston')   Accessed by city name \n",
    "\n",
    "Data example: <br> \n",
    "{'geonameid': 4930956,\n",
    " 'name': 'Boston',\n",
    " 'latitude': 42.35843,\n",
    " 'longitude': -71.05977,\n",
    " 'countrycode': 'US',\n",
    " 'population': 667137,\n",
    " 'timezone': 'America/New_York',\n",
    " 'admin1code': 'MA'}"
   ]
  },
  {
   "cell_type": "code",
   "execution_count": 16,
   "metadata": {},
   "outputs": [
    {
     "data": {
      "text/plain": [
       "dict"
      ]
     },
     "execution_count": 16,
     "metadata": {},
     "output_type": "execute_result"
    }
   ],
   "source": [
    "cities = gc.get_cities()\n",
    "type(cities)"
   ]
  },
  {
   "cell_type": "code",
   "execution_count": 17,
   "metadata": {},
   "outputs": [
    {
     "data": {
      "text/plain": [
       "{'geonameid': 4930956,\n",
       " 'name': 'Boston',\n",
       " 'latitude': 42.35843,\n",
       " 'longitude': -71.05977,\n",
       " 'countrycode': 'US',\n",
       " 'population': 667137,\n",
       " 'timezone': 'America/New_York',\n",
       " 'admin1code': 'MA'}"
      ]
     },
     "execution_count": 17,
     "metadata": {},
     "output_type": "execute_result"
    }
   ],
   "source": [
    "cities['4930956'] # use the geonameid"
   ]
  },
  {
   "cell_type": "code",
   "execution_count": 18,
   "metadata": {},
   "outputs": [
    {
     "data": {
      "text/plain": [
       "[{'2655138': {'geonameid': 2655138,\n",
       "   'name': 'Boston',\n",
       "   'latitude': 52.97633,\n",
       "   'longitude': -0.02664,\n",
       "   'countrycode': 'GB',\n",
       "   'population': 41340,\n",
       "   'timezone': 'Europe/London',\n",
       "   'admin1code': 'ENG'}},\n",
       " {'4930956': {'geonameid': 4930956,\n",
       "   'name': 'Boston',\n",
       "   'latitude': 42.35843,\n",
       "   'longitude': -71.05977,\n",
       "   'countrycode': 'US',\n",
       "   'population': 667137,\n",
       "   'timezone': 'America/New_York',\n",
       "   'admin1code': 'MA'}}]"
      ]
     },
     "execution_count": 18,
     "metadata": {},
     "output_type": "execute_result"
    }
   ],
   "source": [
    "gc.get_cities_by_name('Boston')"
   ]
  },
  {
   "cell_type": "code",
   "execution_count": 19,
   "metadata": {},
   "outputs": [
    {
     "data": {
      "text/html": [
       "<div>\n",
       "<style scoped>\n",
       "    .dataframe tbody tr th:only-of-type {\n",
       "        vertical-align: middle;\n",
       "    }\n",
       "\n",
       "    .dataframe tbody tr th {\n",
       "        vertical-align: top;\n",
       "    }\n",
       "\n",
       "    .dataframe thead th {\n",
       "        text-align: right;\n",
       "    }\n",
       "</style>\n",
       "<table border=\"1\" class=\"dataframe\">\n",
       "  <thead>\n",
       "    <tr style=\"text-align: right;\">\n",
       "      <th></th>\n",
       "      <th>3041563</th>\n",
       "      <th>290594</th>\n",
       "      <th>291074</th>\n",
       "      <th>291580</th>\n",
       "      <th>291696</th>\n",
       "      <th>292223</th>\n",
       "      <th>292231</th>\n",
       "      <th>292239</th>\n",
       "      <th>292672</th>\n",
       "      <th>292688</th>\n",
       "      <th>...</th>\n",
       "      <th>890983</th>\n",
       "      <th>893485</th>\n",
       "      <th>893549</th>\n",
       "      <th>893697</th>\n",
       "      <th>894239</th>\n",
       "      <th>894701</th>\n",
       "      <th>895061</th>\n",
       "      <th>895269</th>\n",
       "      <th>1085510</th>\n",
       "      <th>1106542</th>\n",
       "    </tr>\n",
       "  </thead>\n",
       "  <tbody>\n",
       "    <tr>\n",
       "      <th>geonameid</th>\n",
       "      <td>3041563</td>\n",
       "      <td>290594</td>\n",
       "      <td>291074</td>\n",
       "      <td>291580</td>\n",
       "      <td>291696</td>\n",
       "      <td>292223</td>\n",
       "      <td>292231</td>\n",
       "      <td>292239</td>\n",
       "      <td>292672</td>\n",
       "      <td>292688</td>\n",
       "      <td>...</td>\n",
       "      <td>890983</td>\n",
       "      <td>893485</td>\n",
       "      <td>893549</td>\n",
       "      <td>893697</td>\n",
       "      <td>894239</td>\n",
       "      <td>894701</td>\n",
       "      <td>895061</td>\n",
       "      <td>895269</td>\n",
       "      <td>1085510</td>\n",
       "      <td>1106542</td>\n",
       "    </tr>\n",
       "    <tr>\n",
       "      <th>name</th>\n",
       "      <td>Andorra la Vella</td>\n",
       "      <td>Umm Al Quwain City</td>\n",
       "      <td>Ras Al Khaimah City</td>\n",
       "      <td>Zayed City</td>\n",
       "      <td>Khawr Fakkān</td>\n",
       "      <td>Dubai</td>\n",
       "      <td>Dibba Al-Fujairah</td>\n",
       "      <td>Dibba Al-Hisn</td>\n",
       "      <td>Sharjah</td>\n",
       "      <td>Ar Ruways</td>\n",
       "      <td>...</td>\n",
       "      <td>Gokwe</td>\n",
       "      <td>Chiredzi</td>\n",
       "      <td>Chipinge</td>\n",
       "      <td>Chinhoyi</td>\n",
       "      <td>Chegutu</td>\n",
       "      <td>Bulawayo</td>\n",
       "      <td>Bindura</td>\n",
       "      <td>Beitbridge</td>\n",
       "      <td>Epworth</td>\n",
       "      <td>Chitungwiza</td>\n",
       "    </tr>\n",
       "    <tr>\n",
       "      <th>latitude</th>\n",
       "      <td>42.5078</td>\n",
       "      <td>25.5647</td>\n",
       "      <td>25.7895</td>\n",
       "      <td>23.6542</td>\n",
       "      <td>25.3313</td>\n",
       "      <td>25.0772</td>\n",
       "      <td>25.5925</td>\n",
       "      <td>25.6196</td>\n",
       "      <td>25.3374</td>\n",
       "      <td>24.1103</td>\n",
       "      <td>...</td>\n",
       "      <td>-18.2048</td>\n",
       "      <td>-21.05</td>\n",
       "      <td>-20.1883</td>\n",
       "      <td>-17.3667</td>\n",
       "      <td>-18.1302</td>\n",
       "      <td>-20.15</td>\n",
       "      <td>-17.3019</td>\n",
       "      <td>-22.2167</td>\n",
       "      <td>-17.89</td>\n",
       "      <td>-18.0127</td>\n",
       "    </tr>\n",
       "    <tr>\n",
       "      <th>longitude</th>\n",
       "      <td>1.52109</td>\n",
       "      <td>55.5552</td>\n",
       "      <td>55.9432</td>\n",
       "      <td>53.7052</td>\n",
       "      <td>56.342</td>\n",
       "      <td>55.3093</td>\n",
       "      <td>56.2618</td>\n",
       "      <td>56.2729</td>\n",
       "      <td>55.4121</td>\n",
       "      <td>52.7306</td>\n",
       "      <td>...</td>\n",
       "      <td>28.9349</td>\n",
       "      <td>31.6667</td>\n",
       "      <td>32.6236</td>\n",
       "      <td>30.2</td>\n",
       "      <td>30.1407</td>\n",
       "      <td>28.5833</td>\n",
       "      <td>31.3306</td>\n",
       "      <td>30</td>\n",
       "      <td>31.1475</td>\n",
       "      <td>31.0755</td>\n",
       "    </tr>\n",
       "    <tr>\n",
       "      <th>countrycode</th>\n",
       "      <td>AD</td>\n",
       "      <td>AE</td>\n",
       "      <td>AE</td>\n",
       "      <td>AE</td>\n",
       "      <td>AE</td>\n",
       "      <td>AE</td>\n",
       "      <td>AE</td>\n",
       "      <td>AE</td>\n",
       "      <td>AE</td>\n",
       "      <td>AE</td>\n",
       "      <td>...</td>\n",
       "      <td>ZW</td>\n",
       "      <td>ZW</td>\n",
       "      <td>ZW</td>\n",
       "      <td>ZW</td>\n",
       "      <td>ZW</td>\n",
       "      <td>ZW</td>\n",
       "      <td>ZW</td>\n",
       "      <td>ZW</td>\n",
       "      <td>ZW</td>\n",
       "      <td>ZW</td>\n",
       "    </tr>\n",
       "  </tbody>\n",
       "</table>\n",
       "<p>5 rows × 24336 columns</p>\n",
       "</div>"
      ],
      "text/plain": [
       "                      3041563              290594               291074  \\\n",
       "geonameid             3041563              290594               291074   \n",
       "name         Andorra la Vella  Umm Al Quwain City  Ras Al Khaimah City   \n",
       "latitude              42.5078             25.5647              25.7895   \n",
       "longitude             1.52109             55.5552              55.9432   \n",
       "countrycode                AD                  AE                   AE   \n",
       "\n",
       "                 291580        291696   292223             292231  \\\n",
       "geonameid        291580        291696   292223             292231   \n",
       "name         Zayed City  Khawr Fakkān    Dubai  Dibba Al-Fujairah   \n",
       "latitude        23.6542       25.3313  25.0772            25.5925   \n",
       "longitude       53.7052        56.342  55.3093            56.2618   \n",
       "countrycode          AE            AE       AE                 AE   \n",
       "\n",
       "                    292239   292672     292688  ...   890983    893485  \\\n",
       "geonameid           292239   292672     292688  ...   890983    893485   \n",
       "name         Dibba Al-Hisn  Sharjah  Ar Ruways  ...    Gokwe  Chiredzi   \n",
       "latitude           25.6196  25.3374    24.1103  ... -18.2048    -21.05   \n",
       "longitude          56.2729  55.4121    52.7306  ...  28.9349   31.6667   \n",
       "countrycode             AE       AE         AE  ...       ZW        ZW   \n",
       "\n",
       "               893549    893697   894239    894701   895061      895269  \\\n",
       "geonameid      893549    893697   894239    894701   895061      895269   \n",
       "name         Chipinge  Chinhoyi  Chegutu  Bulawayo  Bindura  Beitbridge   \n",
       "latitude     -20.1883  -17.3667 -18.1302    -20.15 -17.3019    -22.2167   \n",
       "longitude     32.6236      30.2  30.1407   28.5833  31.3306          30   \n",
       "countrycode        ZW        ZW       ZW        ZW       ZW          ZW   \n",
       "\n",
       "             1085510      1106542  \n",
       "geonameid    1085510      1106542  \n",
       "name         Epworth  Chitungwiza  \n",
       "latitude      -17.89     -18.0127  \n",
       "longitude    31.1475      31.0755  \n",
       "countrycode       ZW           ZW  \n",
       "\n",
       "[5 rows x 24336 columns]"
      ]
     },
     "execution_count": 19,
     "metadata": {},
     "output_type": "execute_result"
    }
   ],
   "source": [
    "df_cities = pd.DataFrame(cities)\n",
    "df_cities.head()"
   ]
  },
  {
   "cell_type": "code",
   "execution_count": 20,
   "metadata": {},
   "outputs": [
    {
     "data": {
      "text/plain": [
       "Springfield                   8\n",
       "San Fernando                  7\n",
       "San Pedro                     7\n",
       "Richmond                      7\n",
       "Santa Cruz                    6\n",
       "                             ..\n",
       "‘Anjarah                      1\n",
       "Bornem                        1\n",
       "Sawāi Mādhopur                1\n",
       "Los Palacios y Villafranca    1\n",
       "Lędziny                       1\n",
       "Name: name, Length: 23090, dtype: int64"
      ]
     },
     "execution_count": 20,
     "metadata": {},
     "output_type": "execute_result"
    }
   ],
   "source": [
    "df_cities = df_cities.transpose()\n",
    "df_cities['name'].value_counts()"
   ]
  },
  {
   "cell_type": "code",
   "execution_count": 21,
   "metadata": {},
   "outputs": [
    {
     "data": {
      "text/plain": [
       "'Hājīganj'"
      ]
     },
     "execution_count": 21,
     "metadata": {},
     "output_type": "execute_result"
    }
   ],
   "source": [
    "# Some city names include accents or other special characters, making regex challenging, for example\n",
    "cities['1201753']['name']"
   ]
  },
  {
   "cell_type": "code",
   "execution_count": 22,
   "metadata": {},
   "outputs": [
    {
     "data": {
      "text/plain": [
       "'Hājīganj'"
      ]
     },
     "execution_count": 22,
     "metadata": {},
     "output_type": "execute_result"
    }
   ],
   "source": [
    "n = cities['1201753']['name']\n",
    "n"
   ]
  },
  {
   "cell_type": "code",
   "execution_count": 23,
   "metadata": {},
   "outputs": [
    {
     "name": "stdout",
     "output_type": "stream",
     "text": [
      "Original:  Hājīganj    vs. the unidecode version: Hajiganj\n"
     ]
    }
   ],
   "source": [
    "# unidecode can help\n",
    "from unidecode import unidecode\n",
    "print(\"Original:  {}    vs. the unidecode version: {}\".format(n,unidecode(n)))"
   ]
  },
  {
   "cell_type": "code",
   "execution_count": 24,
   "metadata": {},
   "outputs": [],
   "source": [
    "# create a column for simplified city names and write out this entire dataframe for use in other projects\n",
    "df_cities['simple_name'] = df_cities['name'].apply(lambda x: unidecode(x))"
   ]
  },
  {
   "cell_type": "markdown",
   "metadata": {},
   "source": [
    "## Geo Names Cache - Part 2 - Use cases\n",
    "\n",
    "1. Getting from Country -> to Capital -> to Latitude, Longitude and plotting lat, long\n",
    "2. City names that are confusing for English text analysis\n"
   ]
  },
  {
   "cell_type": "code",
   "execution_count": null,
   "metadata": {},
   "outputs": [],
   "source": []
  },
  {
   "cell_type": "code",
   "execution_count": 25,
   "metadata": {},
   "outputs": [
    {
     "data": {
      "text/html": [
       "<div>\n",
       "<style scoped>\n",
       "    .dataframe tbody tr th:only-of-type {\n",
       "        vertical-align: middle;\n",
       "    }\n",
       "\n",
       "    .dataframe tbody tr th {\n",
       "        vertical-align: top;\n",
       "    }\n",
       "\n",
       "    .dataframe thead th {\n",
       "        text-align: right;\n",
       "    }\n",
       "</style>\n",
       "<table border=\"1\" class=\"dataframe\">\n",
       "  <thead>\n",
       "    <tr style=\"text-align: right;\">\n",
       "      <th></th>\n",
       "      <th>geonameid</th>\n",
       "      <th>name</th>\n",
       "      <th>latitude</th>\n",
       "      <th>longitude</th>\n",
       "      <th>countrycode</th>\n",
       "      <th>population</th>\n",
       "      <th>timezone</th>\n",
       "      <th>admin1code</th>\n",
       "      <th>simple_name</th>\n",
       "    </tr>\n",
       "  </thead>\n",
       "  <tbody>\n",
       "    <tr>\n",
       "      <th>3041563</th>\n",
       "      <td>3041563</td>\n",
       "      <td>Andorra la Vella</td>\n",
       "      <td>42.5078</td>\n",
       "      <td>1.52109</td>\n",
       "      <td>AD</td>\n",
       "      <td>20430</td>\n",
       "      <td>Europe/Andorra</td>\n",
       "      <td>07</td>\n",
       "      <td>Andorra la Vella</td>\n",
       "    </tr>\n",
       "    <tr>\n",
       "      <th>290594</th>\n",
       "      <td>290594</td>\n",
       "      <td>Umm Al Quwain City</td>\n",
       "      <td>25.5647</td>\n",
       "      <td>55.5552</td>\n",
       "      <td>AE</td>\n",
       "      <td>62747</td>\n",
       "      <td>Asia/Dubai</td>\n",
       "      <td>07</td>\n",
       "      <td>Umm Al Quwain City</td>\n",
       "    </tr>\n",
       "    <tr>\n",
       "      <th>291074</th>\n",
       "      <td>291074</td>\n",
       "      <td>Ras Al Khaimah City</td>\n",
       "      <td>25.7895</td>\n",
       "      <td>55.9432</td>\n",
       "      <td>AE</td>\n",
       "      <td>351943</td>\n",
       "      <td>Asia/Dubai</td>\n",
       "      <td>05</td>\n",
       "      <td>Ras Al Khaimah City</td>\n",
       "    </tr>\n",
       "    <tr>\n",
       "      <th>291580</th>\n",
       "      <td>291580</td>\n",
       "      <td>Zayed City</td>\n",
       "      <td>23.6542</td>\n",
       "      <td>53.7052</td>\n",
       "      <td>AE</td>\n",
       "      <td>63482</td>\n",
       "      <td>Asia/Dubai</td>\n",
       "      <td>01</td>\n",
       "      <td>Zayed City</td>\n",
       "    </tr>\n",
       "    <tr>\n",
       "      <th>291696</th>\n",
       "      <td>291696</td>\n",
       "      <td>Khawr Fakkān</td>\n",
       "      <td>25.3313</td>\n",
       "      <td>56.342</td>\n",
       "      <td>AE</td>\n",
       "      <td>40677</td>\n",
       "      <td>Asia/Dubai</td>\n",
       "      <td>06</td>\n",
       "      <td>Khawr Fakkan</td>\n",
       "    </tr>\n",
       "  </tbody>\n",
       "</table>\n",
       "</div>"
      ],
      "text/plain": [
       "        geonameid                 name latitude longitude countrycode  \\\n",
       "3041563   3041563     Andorra la Vella  42.5078   1.52109          AD   \n",
       "290594     290594   Umm Al Quwain City  25.5647   55.5552          AE   \n",
       "291074     291074  Ras Al Khaimah City  25.7895   55.9432          AE   \n",
       "291580     291580           Zayed City  23.6542   53.7052          AE   \n",
       "291696     291696         Khawr Fakkān  25.3313    56.342          AE   \n",
       "\n",
       "        population        timezone admin1code          simple_name  \n",
       "3041563      20430  Europe/Andorra         07     Andorra la Vella  \n",
       "290594       62747      Asia/Dubai         07   Umm Al Quwain City  \n",
       "291074      351943      Asia/Dubai         05  Ras Al Khaimah City  \n",
       "291580       63482      Asia/Dubai         01           Zayed City  \n",
       "291696       40677      Asia/Dubai         06         Khawr Fakkan  "
      ]
     },
     "execution_count": 25,
     "metadata": {},
     "output_type": "execute_result"
    }
   ],
   "source": [
    "df_cities.head()"
   ]
  },
  {
   "cell_type": "markdown",
   "metadata": {},
   "source": [
    "### Case 1: Country -> Capital -> plotting lat, long"
   ]
  },
  {
   "cell_type": "code",
   "execution_count": 26,
   "metadata": {},
   "outputs": [
    {
     "data": {
      "text/plain": [
       "{'east': 41.73303985595703,\n",
       " 'south': 27.6377894797159,\n",
       " 'north': 80.76416015625,\n",
       " 'west': -24.532675386662543,\n",
       " 'accuracyLevel': 0}"
      ]
     },
     "execution_count": 26,
     "metadata": {},
     "output_type": "execute_result"
    }
   ],
   "source": [
    "es = df_cities[df_cities['countrycode'] == 'ES'] # get all cities in spain\n",
    "continents[countries['ES']['continentcode']]['bbox']"
   ]
  },
  {
   "cell_type": "code",
   "execution_count": 27,
   "metadata": {},
   "outputs": [
    {
     "data": {
      "text/plain": [
       "[{'3675707': {'geonameid': 3675707,\n",
       "   'name': 'Madrid',\n",
       "   'latitude': 4.73245,\n",
       "   'longitude': -74.26419,\n",
       "   'countrycode': 'CO',\n",
       "   'population': 50437,\n",
       "   'timezone': 'America/Bogota',\n",
       "   'admin1code': '33'}},\n",
       " {'3117735': {'geonameid': 3117735,\n",
       "   'name': 'Madrid',\n",
       "   'latitude': 40.4165,\n",
       "   'longitude': -3.70256,\n",
       "   'countrycode': 'ES',\n",
       "   'population': 3255944,\n",
       "   'timezone': 'Europe/Madrid',\n",
       "   'admin1code': '29'}}]"
      ]
     },
     "execution_count": 27,
     "metadata": {},
     "output_type": "execute_result"
    }
   ],
   "source": [
    "# find the capital\n",
    "countries['ES']['capital']\n",
    "gc.get_cities_by_name(countries['ES']['capital'])"
   ]
  },
  {
   "cell_type": "code",
   "execution_count": 28,
   "metadata": {},
   "outputs": [
    {
     "data": {
      "image/png": "[encoded data removed]",
      "text/plain": [
       "<Figure size 576x576 with 1 Axes>"
      ]
     },
     "metadata": {},
     "output_type": "display_data"
    }
   ],
   "source": [
    "## Plot all the cities in Spain\n",
    "\n",
    "es = df_cities[df_cities['countrycode'] == 'ES'] # get all cities in spain\n",
    "# find the continent for ES, then get the bounding box for that to use in the map\n",
    "countries['ES']['continentcode']\n",
    "bounds = continents[countries['ES']['continentcode']]['bbox']\n",
    "\n",
    "# Multiple cities named Madrid...finding the correct programmatically will be saved for later\n",
    "MadLat = 40.4165\n",
    "MadLon = -3.70256\n",
    "\n",
    "\n",
    "# Basemap has many projections...this one is Miller\n",
    "fig = plt.figure(figsize=(8,8))\n",
    "\n",
    "# Full map: -90, +90, -180, +180\n",
    "if (0):\n",
    "    # llcrnrlat = -60 to trim out Antarctica\n",
    "    m = Basemap(projection='mill',llcrnrlat=-90,urcrnrlat=90,\\\n",
    "           llcrnrlon = -180, urcrnrlon=180,resolution='l') \n",
    "# Full map of Europe:\n",
    "#m = Basemap(projection='mill',llcrnrlat=bounds['south'],urcrnrlat=bounds['north'],\\\n",
    "#           llcrnrlon = bounds['west'], urcrnrlon=bounds['east'],resolution='l') \n",
    "# Zooming in on Spain...\n",
    "if (1):\n",
    "    m = Basemap(projection='mill',llcrnrlat=27,urcrnrlat=50,\\\n",
    "           llcrnrlon = -20, urcrnrlon=20,resolution='l') \n",
    "# resolution: crude, low, high\n",
    "\n",
    "m.drawcoastlines()\n",
    "m.drawcountries()\n",
    "#m.drawstates()\n",
    "#m.drawrivers()\n",
    "#m.fillcontinents(color='#04bae3',lake_color='#FFFCCC') # #072b57 = dark blue\n",
    "#m.drawmapboundary(fill_color='#FFFFFF')\n",
    "#m.bluemarble() # makes it look like a view from space -- nice coloring of land, water, glaciers\n",
    "\n",
    "# Most cities\n",
    "latitude = list(es['latitude'])\n",
    "longitude = list(es['longitude'])\n",
    "m.scatter(longitude, latitude, latlon=True, s=20)\n",
    "\n",
    "# Capital\n",
    "x,y = m(MadLon,MadLat)        # note that above the function took Long, Lat and converted to x, y plotting; here\n",
    "                              # we need to that ourselves\n",
    "#print(\"what are x, and y? {} {}\".format(x,y))\n",
    "m.plot(x,y,'ro',markersize=8, alpha=0.8)\n",
    "\n",
    "\n",
    "\n",
    "plt.title('Quick basemap example')\n",
    "plt.show()"
   ]
  },
  {
   "cell_type": "markdown",
   "metadata": {},
   "source": [
    "### Case 2 - City names that are confusing for English text analysis"
   ]
  },
  {
   "cell_type": "code",
   "execution_count": 29,
   "metadata": {},
   "outputs": [
    {
     "name": "stdout",
     "output_type": "stream",
     "text": [
      "Of: population 31951, lat 40.94055 long 40.25918\n",
      "Gap: population 42715, lat 44.55858 long 6.07868\n",
      "Boom: population 15810, lat 51.09242 long 4.3717\n",
      "Man: population 139341, lat 7.41251 long -7.55383\n",
      "Goes: population 36931, lat 51.50417 long 3.88889\n",
      "Bay: population 33547, lat 14.18368 long 121.28554\n",
      "Spring: population 54298, lat 30.07994 long -95.41716\n",
      "Borne: population 20550, lat 52.30136 long 6.7482\n",
      "Buy: population 26486, lat 58.48067 long 41.53699\n",
      "Bury: population 61044, lat 53.6 long -2.3\n",
      "Bra: population 24072, lat 44.69776 long 7.85128\n"
     ]
    }
   ],
   "source": [
    "#gc.get_cities()['4930956']        Accessed by geonameid \n",
    "list_of_tricky_names = ['Of','Gap','Boom','Hit','Can','Man','Goes','Come','Bay','Spring','Borne','Buy',\\\n",
    "                    'Bury','Bra','Papa']\n",
    "\n",
    "# The problem with this approach is that the names have not been run through unidecode\n",
    "for c in list_of_tricky_names:   \n",
    "    ng = gc.get_cities_by_name(c)   #Accessed by city name; returns a list of dictionaries\n",
    "    if (ng):\n",
    "        for k in ng[0]:\n",
    "            print(\"{}: population {}, lat {} long {}\".format(ng[0][k]['name'],\\\n",
    "                                                         ng[0][k]['population'],\\\n",
    "                                                         ng[0][k]['latitude'],\\\n",
    "                                                         ng[0][k]['longitude']))\n",
    "\n",
    "# Note that some are MISSING! \"Hit\" and \"Can\" actual have special characters."
   ]
  },
  {
   "cell_type": "code",
   "execution_count": 30,
   "metadata": {},
   "outputs": [
    {
     "data": {
      "text/html": [
       "<div>\n",
       "<style scoped>\n",
       "    .dataframe tbody tr th:only-of-type {\n",
       "        vertical-align: middle;\n",
       "    }\n",
       "\n",
       "    .dataframe tbody tr th {\n",
       "        vertical-align: top;\n",
       "    }\n",
       "\n",
       "    .dataframe thead th {\n",
       "        text-align: right;\n",
       "    }\n",
       "</style>\n",
       "<table border=\"1\" class=\"dataframe\">\n",
       "  <thead>\n",
       "    <tr style=\"text-align: right;\">\n",
       "      <th></th>\n",
       "      <th>geonameid</th>\n",
       "      <th>name</th>\n",
       "      <th>latitude</th>\n",
       "      <th>longitude</th>\n",
       "      <th>countrycode</th>\n",
       "      <th>population</th>\n",
       "      <th>timezone</th>\n",
       "      <th>admin1code</th>\n",
       "      <th>simple_name</th>\n",
       "    </tr>\n",
       "  </thead>\n",
       "  <tbody>\n",
       "    <tr>\n",
       "      <th>2801494</th>\n",
       "      <td>2801494</td>\n",
       "      <td>Boom</td>\n",
       "      <td>51.0924</td>\n",
       "      <td>4.3717</td>\n",
       "      <td>BE</td>\n",
       "      <td>15810</td>\n",
       "      <td>Europe/Brussels</td>\n",
       "      <td>VLG</td>\n",
       "      <td>Boom</td>\n",
       "    </tr>\n",
       "    <tr>\n",
       "      <th>2284647</th>\n",
       "      <td>2284647</td>\n",
       "      <td>Man</td>\n",
       "      <td>7.41251</td>\n",
       "      <td>-7.55383</td>\n",
       "      <td>CI</td>\n",
       "      <td>139341</td>\n",
       "      <td>Africa/Abidjan</td>\n",
       "      <td>78</td>\n",
       "      <td>Man</td>\n",
       "    </tr>\n",
       "    <tr>\n",
       "      <th>3016702</th>\n",
       "      <td>3016702</td>\n",
       "      <td>Gap</td>\n",
       "      <td>44.5586</td>\n",
       "      <td>6.07868</td>\n",
       "      <td>FR</td>\n",
       "      <td>42715</td>\n",
       "      <td>Europe/Paris</td>\n",
       "      <td>93</td>\n",
       "      <td>Gap</td>\n",
       "    </tr>\n",
       "    <tr>\n",
       "      <th>2654187</th>\n",
       "      <td>2654187</td>\n",
       "      <td>Bury</td>\n",
       "      <td>53.6</td>\n",
       "      <td>-2.3</td>\n",
       "      <td>GB</td>\n",
       "      <td>61044</td>\n",
       "      <td>Europe/London</td>\n",
       "      <td>ENG</td>\n",
       "      <td>Bury</td>\n",
       "    </tr>\n",
       "    <tr>\n",
       "      <th>3181631</th>\n",
       "      <td>3181631</td>\n",
       "      <td>Bra</td>\n",
       "      <td>44.6978</td>\n",
       "      <td>7.85128</td>\n",
       "      <td>IT</td>\n",
       "      <td>24072</td>\n",
       "      <td>Europe/Rome</td>\n",
       "      <td>12</td>\n",
       "      <td>Bra</td>\n",
       "    </tr>\n",
       "    <tr>\n",
       "      <th>2755476</th>\n",
       "      <td>2755476</td>\n",
       "      <td>Goes</td>\n",
       "      <td>51.5042</td>\n",
       "      <td>3.88889</td>\n",
       "      <td>NL</td>\n",
       "      <td>36931</td>\n",
       "      <td>Europe/Amsterdam</td>\n",
       "      <td>10</td>\n",
       "      <td>Goes</td>\n",
       "    </tr>\n",
       "    <tr>\n",
       "      <th>2758598</th>\n",
       "      <td>2758598</td>\n",
       "      <td>Borne</td>\n",
       "      <td>52.3014</td>\n",
       "      <td>6.7482</td>\n",
       "      <td>NL</td>\n",
       "      <td>20550</td>\n",
       "      <td>Europe/Amsterdam</td>\n",
       "      <td>15</td>\n",
       "      <td>Borne</td>\n",
       "    </tr>\n",
       "    <tr>\n",
       "      <th>1725919</th>\n",
       "      <td>1725919</td>\n",
       "      <td>Bay</td>\n",
       "      <td>14.1837</td>\n",
       "      <td>121.286</td>\n",
       "      <td>PH</td>\n",
       "      <td>33547</td>\n",
       "      <td>Asia/Manila</td>\n",
       "      <td>40</td>\n",
       "      <td>Bay</td>\n",
       "    </tr>\n",
       "    <tr>\n",
       "      <th>570508</th>\n",
       "      <td>570508</td>\n",
       "      <td>Buy</td>\n",
       "      <td>58.4807</td>\n",
       "      <td>41.537</td>\n",
       "      <td>RU</td>\n",
       "      <td>26486</td>\n",
       "      <td>Europe/Moscow</td>\n",
       "      <td>37</td>\n",
       "      <td>Buy</td>\n",
       "    </tr>\n",
       "    <tr>\n",
       "      <th>741240</th>\n",
       "      <td>741240</td>\n",
       "      <td>Of</td>\n",
       "      <td>40.9406</td>\n",
       "      <td>40.2592</td>\n",
       "      <td>TR</td>\n",
       "      <td>31951</td>\n",
       "      <td>Europe/Istanbul</td>\n",
       "      <td>61</td>\n",
       "      <td>Of</td>\n",
       "    </tr>\n",
       "    <tr>\n",
       "      <th>4733624</th>\n",
       "      <td>4733624</td>\n",
       "      <td>Spring</td>\n",
       "      <td>30.0799</td>\n",
       "      <td>-95.4172</td>\n",
       "      <td>US</td>\n",
       "      <td>54298</td>\n",
       "      <td>America/Chicago</td>\n",
       "      <td>TX</td>\n",
       "      <td>Spring</td>\n",
       "    </tr>\n",
       "  </tbody>\n",
       "</table>\n",
       "</div>"
      ],
      "text/plain": [
       "        geonameid    name latitude longitude countrycode population  \\\n",
       "2801494   2801494    Boom  51.0924    4.3717          BE      15810   \n",
       "2284647   2284647     Man  7.41251  -7.55383          CI     139341   \n",
       "3016702   3016702     Gap  44.5586   6.07868          FR      42715   \n",
       "2654187   2654187    Bury     53.6      -2.3          GB      61044   \n",
       "3181631   3181631     Bra  44.6978   7.85128          IT      24072   \n",
       "2755476   2755476    Goes  51.5042   3.88889          NL      36931   \n",
       "2758598   2758598   Borne  52.3014    6.7482          NL      20550   \n",
       "1725919   1725919     Bay  14.1837   121.286          PH      33547   \n",
       "570508     570508     Buy  58.4807    41.537          RU      26486   \n",
       "741240     741240      Of  40.9406   40.2592          TR      31951   \n",
       "4733624   4733624  Spring  30.0799  -95.4172          US      54298   \n",
       "\n",
       "                 timezone admin1code simple_name  \n",
       "2801494   Europe/Brussels        VLG        Boom  \n",
       "2284647    Africa/Abidjan         78         Man  \n",
       "3016702      Europe/Paris         93         Gap  \n",
       "2654187     Europe/London        ENG        Bury  \n",
       "3181631       Europe/Rome         12         Bra  \n",
       "2755476  Europe/Amsterdam         10        Goes  \n",
       "2758598  Europe/Amsterdam         15       Borne  \n",
       "1725919       Asia/Manila         40         Bay  \n",
       "570508      Europe/Moscow         37         Buy  \n",
       "741240    Europe/Istanbul         61          Of  \n",
       "4733624   America/Chicago         TX      Spring  "
      ]
     },
     "execution_count": 30,
     "metadata": {},
     "output_type": "execute_result"
    }
   ],
   "source": [
    "# An easier option is to use the DataFrame with the modified names\n",
    "\n",
    "df_cities[df_cities['name'].apply(lambda x: True if x in list_of_tricky_names else False)]"
   ]
  },
  {
   "cell_type": "code",
   "execution_count": 31,
   "metadata": {},
   "outputs": [],
   "source": [
    "# One option is to drop all of these since they are smaller cities and these words can turn up for other reasons, \n",
    "# such as \"Spring break\" or \"mosquito-borne\""
   ]
  },
  {
   "cell_type": "code",
   "execution_count": 32,
   "metadata": {},
   "outputs": [],
   "source": [
    "## For offline sleuthing\n",
    "df_cities.to_csv('geonamescache_complete_cities.csv')"
   ]
  },
  {
   "cell_type": "code",
   "execution_count": null,
   "metadata": {},
   "outputs": [],
   "source": []
  }
 ],
 "metadata": {
  "kernelspec": {
   "display_name": "Python 3",
   "language": "python",
   "name": "python3"
  },
  "language_info": {
   "codemirror_mode": {
    "name": "ipython",
    "version": 3
   },
   "file_extension": ".py",
   "mimetype": "text/x-python",
   "name": "python",
   "nbconvert_exporter": "python",
   "pygments_lexer": "ipython3",
   "version": "3.7.6"
  }
 },
 "nbformat": 4,
 "nbformat_minor": 4
}
